{
 "cells": [
  {
   "cell_type": "markdown",
   "metadata": {},
   "source": [
    "\n",
    "# Example of Singular Value Decomposition (SVD)\n"
   ]
  },
  {
   "cell_type": "code",
   "execution_count": 1,
   "metadata": {},
   "outputs": [],
   "source": [
    "import torch"
   ]
  },
  {
   "cell_type": "markdown",
   "id": "08645836",
   "metadata": {},
   "source": [
    "\n",
    "## Initial Matrix Definition\n",
    "We define a matrix `A` that we will decompose using SVD. \n",
    "```python\n",
    "A = torch.tensor([[4, 4], [3, -3]])\n",
    "```\n"
   ]
  },
  {
   "cell_type": "code",
   "execution_count": 2,
   "metadata": {},
   "outputs": [
    {
     "name": "stdout",
     "output_type": "stream",
     "text": [
      "A: tensor([[ 4,  4],\n",
      "        [ 3, -3]])\n"
     ]
    }
   ],
   "source": [
    "A=torch.tensor([[4,4],[3,-3]])\n",
    "print(f'A: {A}')"
   ]
  },
  {
   "cell_type": "markdown",
   "metadata": {},
   "source": [
    "\n",
    "## Mathematical Background for SVD\n",
    "SVD decomposes a matrix `A` into three matrices: `U`, `Σ` (Sigma), and `V^T` such that `A = UΣV^T`.\n",
    "\n",
    "- **Eigen Decomposition of \\(A^TA\\)**: We compute \\(A^TA\\) to find the right singular vectors (columns of \\(V\\)) and the singular values (diagonal of \\(Σ\\)).\n",
    "- **Eigen Decomposition of \\(AA^T\\)**: We compute \\(AA^T\\) to find the left singular vectors (columns of \\(U\\)).\n"
   ]
  },
  {
   "cell_type": "code",
   "execution_count": 3,
   "metadata": {},
   "outputs": [
    {
     "name": "stdout",
     "output_type": "stream",
     "text": [
      "A^T*A: tensor([[25.,  7.],\n",
      "        [ 7., 25.]])\n"
     ]
    }
   ],
   "source": [
    "ATA = torch.matmul(A.t(),A).to(torch.float32)\n",
    "print(f'A^T*A: {ATA}')"
   ]
  },
  {
   "cell_type": "code",
   "execution_count": 4,
   "metadata": {},
   "outputs": [
    {
     "name": "stdout",
     "output_type": "stream",
     "text": [
      "eigenvalues of A^T*A: tensor([18., 32.])\n"
     ]
    }
   ],
   "source": [
    "eigenvalues = torch.linalg.eigh(ATA).eigenvalues\n",
    "print(f'eigenvalues of A^T*A: {eigenvalues}')"
   ]
  },
  {
   "cell_type": "code",
   "execution_count": 5,
   "metadata": {},
   "outputs": [
    {
     "name": "stdout",
     "output_type": "stream",
     "text": [
      "eigenvectors of A^T*A: tensor([[-0.7071,  0.7071],\n",
      "        [ 0.7071,  0.7071]])\n"
     ]
    }
   ],
   "source": [
    "eigenvec_1 = torch.linalg.eigh(ATA).eigenvectors\n",
    "print(f'eigenvectors of A^T*A: {eigenvec_1}')"
   ]
  },
  {
   "cell_type": "markdown",
   "metadata": {},
   "source": [
    "Similarly, we calculate the eigenvalues and eigenvector of $AA^T$ to determine $u_j$"
   ]
  },
  {
   "cell_type": "code",
   "execution_count": 6,
   "metadata": {},
   "outputs": [
    {
     "name": "stdout",
     "output_type": "stream",
     "text": [
      "A*A^T: tensor([[32.,  0.],\n",
      "        [ 0., 18.]])\n"
     ]
    }
   ],
   "source": [
    "AAT = torch.matmul(A,A.t()).to(torch.float32)\n",
    "print(f'A*A^T: {AAT}')"
   ]
  },
  {
   "cell_type": "markdown",
   "metadata": {},
   "source": [
    "Eigenvalues of AB and BA are the same."
   ]
  },
  {
   "cell_type": "code",
   "execution_count": 7,
   "metadata": {},
   "outputs": [
    {
     "name": "stdout",
     "output_type": "stream",
     "text": [
      "eigenvalues of A*A^T: tensor([18., 32.])\n",
      "Sigma: tensor([[4.2426, 0.0000],\n",
      "        [0.0000, 5.6569]])\n"
     ]
    }
   ],
   "source": [
    "eigenvalues = torch.linalg.eigh(AAT).eigenvalues\n",
    "print(f'eigenvalues of A*A^T: {eigenvalues}')\n",
    "sigma = torch.tensor([[torch.sqrt(eigenvalues[0]),0],\n",
    "                     [0,torch.sqrt(eigenvalues[1])]])\n",
    "print(f'Sigma: {sigma}')"
   ]
  },
  {
   "cell_type": "code",
   "execution_count": 8,
   "metadata": {},
   "outputs": [
    {
     "name": "stdout",
     "output_type": "stream",
     "text": [
      "eigenvectors of A*A^T: tensor([[0., 1.],\n",
      "        [1., 0.]])\n"
     ]
    }
   ],
   "source": [
    "eigenvec_2 = torch.linalg.eigh(AAT).eigenvectors\n",
    "print(f'eigenvectors of A*A^T: {eigenvec_2}')"
   ]
  },
  {
   "cell_type": "code",
   "execution_count": 9,
   "metadata": {},
   "outputs": [],
   "source": [
    "U = eigenvec_2.T"
   ]
  },
  {
   "cell_type": "code",
   "execution_count": 10,
   "metadata": {},
   "outputs": [],
   "source": [
    "V = eigenvec_1"
   ]
  },
  {
   "cell_type": "code",
   "execution_count": 11,
   "metadata": {},
   "outputs": [
    {
     "name": "stdout",
     "output_type": "stream",
     "text": [
      "A: tensor([[ 4.0000,  4.0000],\n",
      "        [-3.0000,  3.0000]])\n"
     ]
    }
   ],
   "source": [
    "result = torch.matmul(sigma, V.T)\n",
    "result = torch.matmul(U, result)\n",
    "print(f'A: {result}')"
   ]
  }
 ],
 "metadata": {
  "kernelspec": {
   "display_name": "Python 3",
   "language": "python",
   "name": "python3"
  },
  "language_info": {
   "codemirror_mode": {
    "name": "ipython",
    "version": 3
   },
   "file_extension": ".py",
   "mimetype": "text/x-python",
   "name": "python",
   "nbconvert_exporter": "python",
   "pygments_lexer": "ipython3",
   "version": "3.11.5"
  }
 },
 "nbformat": 4,
 "nbformat_minor": 2
}
